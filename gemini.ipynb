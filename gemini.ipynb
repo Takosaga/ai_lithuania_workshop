{
 "cells": [
  {
   "cell_type": "code",
   "execution_count": 1,
   "metadata": {},
   "outputs": [],
   "source": [
    "import os\n",
    "\n",
    "from dotenv import load_dotenv\n",
    "# loading variables from .env file\n",
    "load_dotenv() # pass a path if it's not a .env in the current working directory \n",
    " \n",
    "# accessing and printing value\n",
    "GOOGLE_API_KEY = os.getenv(\"GOOGLE_API_KEY\")"
   ]
  },
  {
   "cell_type": "code",
   "execution_count": 3,
   "metadata": {},
   "outputs": [
    {
     "ename": "ModuleNotFoundError",
     "evalue": "No module named 'google'",
     "output_type": "error",
     "traceback": [
      "\u001b[0;31m---------------------------------------------------------------------------\u001b[0m",
      "\u001b[0;31mModuleNotFoundError\u001b[0m                       Traceback (most recent call last)",
      "Cell \u001b[0;32mIn[3], line 1\u001b[0m\n\u001b[0;32m----> 1\u001b[0m \u001b[38;5;28;01mfrom\u001b[39;00m\u001b[38;5;250m \u001b[39m\u001b[38;5;21;01mgoogle\u001b[39;00m\u001b[38;5;250m \u001b[39m\u001b[38;5;28;01mimport\u001b[39;00m genai\n\u001b[1;32m      3\u001b[0m client \u001b[38;5;241m=\u001b[39m genai\u001b[38;5;241m.\u001b[39mClient(api_key\u001b[38;5;241m=\u001b[39mGOOGLE_API_KEY)\n\u001b[1;32m      4\u001b[0m response \u001b[38;5;241m=\u001b[39m client\u001b[38;5;241m.\u001b[39mmodels\u001b[38;5;241m.\u001b[39mgenerate_content(\n\u001b[1;32m      5\u001b[0m model\u001b[38;5;241m=\u001b[39m\u001b[38;5;124m\"\u001b[39m\u001b[38;5;124mgemini-2.0-flash\u001b[39m\u001b[38;5;124m\"\u001b[39m, \n\u001b[1;32m      6\u001b[0m contents\u001b[38;5;241m=\u001b[39m\u001b[38;5;124m\"\u001b[39m\u001b[38;5;124mExplain how AI works\u001b[39m\u001b[38;5;124m\"\u001b[39m\n\u001b[1;32m      7\u001b[0m )\n",
      "\u001b[0;31mModuleNotFoundError\u001b[0m: No module named 'google'"
     ]
    }
   ],
   "source": [
    "from google import genai\n",
    "\n",
    "client = genai.Client(api_key=GOOGLE_API_KEY)\n",
    "response = client.models.generate_content(\n",
    "model=\"gemini-2.0-flash\", \n",
    "contents=\"Explain how AI works\"\n",
    ")\n",
    "print(response.text)"
   ]
  },
  {
   "cell_type": "code",
   "execution_count": 4,
   "metadata": {},
   "outputs": [
    {
     "name": "stdout",
     "output_type": "stream",
     "text": [
      "```json\n",
      "[\n",
      "  {\n",
      "    \"recipe_name\": \"Chocolate Chip Cookies\",\n",
      "    \"ingredients\": [\n",
      "      \"1 cup (2 sticks) unsalted butter, softened\",\n",
      "      \"3/4 cup granulated sugar\",\n",
      "      \"3/4 cup packed brown sugar\",\n",
      "      \"1 teaspoon vanilla extract\",\n",
      "      \"2 large eggs\",\n",
      "      \"2 1/4 cups all-purpose flour\",\n",
      "      \"1 teaspoon baking soda\",\n",
      "      \"1 teaspoon salt\",\n",
      "      \"2 cups chocolate chips\"\n",
      "    ]\n",
      "  },\n",
      "  {\n",
      "    \"recipe_name\": \"Peanut Butter Cookies\",\n",
      "    \"ingredients\": [\n",
      "      \"1 cup (2 sticks) unsalted butter, softened\",\n",
      "      \"1 cup creamy peanut butter\",\n",
      "      \"1 cup granulated sugar\",\n",
      "      \"1 cup packed brown sugar\",\n",
      "      \"2 large eggs\",\n",
      "      \"1 teaspoon vanilla extract\",\n",
      "      \"2 1/2 cups all-purpose flour\",\n",
      "      \"1 teaspoon baking soda\",\n",
      "      \"1/2 teaspoon salt\"\n",
      "    ]\n",
      "  },\n",
      "  {\n",
      "    \"recipe_name\": \"Oatmeal Raisin Cookies\",\n",
      "    \"ingredients\": [\n",
      "      \"1 cup (2 sticks) unsalted butter, softened\",\n",
      "      \"3/4 cup granulated sugar\",\n",
      "      \"3/4 cup packed brown sugar\",\n",
      "      \"2 large eggs\",\n",
      "      \"1 teaspoon vanilla extract\",\n",
      "      \"1 1/2 cups all-purpose flour\",\n",
      "      \"1 teaspoon baking soda\",\n",
      "      \"1 teaspoon salt\",\n",
      "      \"3 cups rolled oats\",\n",
      "      \"1 cup raisins\"\n",
      "    ]\n",
      "  },\n",
      "  {\n",
      "    \"recipe_name\": \"Sugar Cookies\",\n",
      "    \"ingredients\": [\n",
      "      \"1 1/2 cups (3 sticks) unsalted butter, softened\",\n",
      "      \"2 cups granulated sugar\",\n",
      "      \"4 large eggs\",\n",
      "      \"1 teaspoon vanilla extract\",\n",
      "      \"5 cups all-purpose flour\",\n",
      "      \"2 teaspoons baking powder\",\n",
      "      \"1 teaspoon salt\"\n",
      "    ]\n",
      "  }\n",
      "]\n",
      "```\n"
     ]
    }
   ],
   "source": [
    "from google import genai\n",
    "\n",
    "prompt = \"\"\"List a few popular cookie recipes in JSON format.\n",
    "\n",
    "Use this JSON schema:\n",
    "\n",
    "Recipe = {'recipe_name': str, 'ingredients': list[str]}\n",
    "Return: list[Recipe]\"\"\"\n",
    "\n",
    "client = genai.Client(api_key=GOOGLE_API_KEY)\n",
    "response = client.models.generate_content(\n",
    "    model='gemini-2.0-flash',\n",
    "    contents=prompt,\n",
    ")\n",
    "\n",
    "# Use the response as a JSON string.\n",
    "print(response.text)"
   ]
  },
  {
   "cell_type": "code",
   "execution_count": 3,
   "metadata": {},
   "outputs": [
    {
     "name": "stdout",
     "output_type": "stream",
     "text": [
      "Here is a detailed description of the image:\n",
      "\n",
      "The image depicts a person working on a laptop at a round table, illuminated by natural light. The laptop screen displays code within the Android Studio IDE, indicating the person is likely a software developer. The code snippet includes details about polling for updates, specifically using AlarmManager for scheduling tasks.\n",
      "\n",
      "To the left of the laptop, there's a white coffee cup with a black insulating sleeve, suggesting the person is enjoying or has recently enjoyed a beverage. In the person's left hand, they hold a silver HTC smartphone connected to the laptop via a black cable. The phone screen is visible and seems to display a series of images, possibly related to the content being developed.\n",
      "\n",
      "The person's right hand is poised over the laptop's trackpad, ready to interact with the software. Glasses are placed on the table to the right of the laptop, suggesting the person may require them for closer work or reading. The table has a mosaic or tiled surface in light neutral tones, and the background shows a blurred window providing light into the room.\n"
     ]
    }
   ],
   "source": [
    "from PIL import Image\n",
    "from google import genai\n",
    "\n",
    "client = genai.Client(api_key=GOOGLE_API_KEY)\n",
    "\n",
    "image = Image.open(\"sample.jpg\")\n",
    "response = client.models.generate_content(\n",
    "    model=\"gemini-2.0-flash\",\n",
    "    contents=[image, \"Generate the detailed description of the image\"])\n",
    "print(response.text)"
   ]
  },
  {
   "cell_type": "code",
   "execution_count": 6,
   "metadata": {},
   "outputs": [
    {
     "name": "stdout",
     "output_type": "stream",
     "text": [
      "The stale smell of old beer lingers. It takes heat to bring out the odor. A cold dip restores health and zest. A salt pickle tastes fine with ham. Tacos al pastor are my favorite. A zestful food is the hot cross bun.\n"
     ]
    }
   ],
   "source": [
    "myfile = client.files.upload(file='sample.wav')\n",
    "prompt = 'Generate a transcript of the speech.'\n",
    "\n",
    "response = client.models.generate_content(\n",
    "model='gemini-2.0-flash',\n",
    "contents=[\n",
    "    prompt,\n",
    "    myfile]\n",
    ")\n",
    "\n",
    "print(response.text)"
   ]
  }
 ],
 "metadata": {
  "kernelspec": {
   "display_name": "ai_workshop",
   "language": "python",
   "name": "python3"
  },
  "language_info": {
   "codemirror_mode": {
    "name": "ipython",
    "version": 3
   },
   "file_extension": ".py",
   "mimetype": "text/x-python",
   "name": "python",
   "nbconvert_exporter": "python",
   "pygments_lexer": "ipython3",
   "version": "3.10.16"
  }
 },
 "nbformat": 4,
 "nbformat_minor": 2
}
