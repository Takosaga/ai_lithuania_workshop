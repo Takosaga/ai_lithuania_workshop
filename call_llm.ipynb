{
 "cells": [
  {
   "cell_type": "code",
   "execution_count": 1,
   "metadata": {},
   "outputs": [
    {
     "name": "stdout",
     "output_type": "stream",
     "text": [
      "The capital of Lithuania is Vilnius.\n"
     ]
    }
   ],
   "source": [
    "import ollama\n",
    "\n",
    "response = ollama.chat(model='llama3.2', messages=[\n",
    "    {\n",
    "        'role': 'user',\n",
    "        'content': 'What is the capital of Lithuania?'\n",
    "    },\n",
    "])\n",
    "\n",
    "print(response['message']['content'])"
   ]
  },
  {
   "cell_type": "code",
   "execution_count": 6,
   "metadata": {},
   "outputs": [],
   "source": [
    "import numpy as np \n",
    "import pandas as pd\n",
    "\n",
    "descriptions = np.array([\n",
    "    \"Alice Smith, known for her innovative approach at TechCorp, has been making waves in the engineering field. With a passion for problem solving, she often collaborates with industry leaders. You can contact her at 555-123-4567, and she also mentors aspiring engineers.\",\n",
    "    \"Bob Johnson is an accomplished artist whose creative exhibitions in New York have drawn widespread acclaim. He is not only celebrated for his art but also for his contributions to community art programs. For bookings or collaborations, dial 555-234-5678.\",\n",
    "    \"Charlie Brown, a famous musician, has a knack for blending classical and modern sounds. His career spans several decades, during which his phone number 555-345-6789 has become a key contact for event organizers. His music continues to inspire many.\",\n",
    "    \"In the bustling city of Gotham, Detective Diana Prince stands out for her unmatched investigative skills. Her commitment to justice is evident in every case she handles, and she is available for consultation at 555-456-7890. Her strategic insights have solved numerous high-profile cases.\",\n",
    "    \"Agent Ethan Hunt is known for his daring missions and exceptional problem-solving abilities. His covert operations often involve sensitive communications, and his contact number, 555-567-8901, is kept secure among trusted circles. Beyond his secretive work, he is a master strategist.\",\n",
    "    \"Fiona Gallagher is an innovative entrepreneur whose startup has revolutionized the tech industry. With a forward-thinking mindset, she continuously drives innovation, and her office can be reached at 555-678-9012 for business inquiries. Her leadership inspires many young professionals.\",\n",
    "    \"George Martin, a novelist with a flair for storytelling, has captivated audiences worldwide with his compelling narratives. He occasionally shares insights on literature and culture, and can be contacted at 555-789-0123 for interviews or speaking engagements.\",\n",
    "    \"At City High, teacher Hannah Baker has earned a reputation for dedication and excellence in education. Her innovative teaching methods and approachable personality make her a favorite among students. For school-related inquiries, her contact is 555-890-1234.\",\n",
    "    \"Mathematician Ian Malcolm, revered for his groundbreaking theories, is a sought-after speaker at academic conferences. His expertise is widely recognized, and for further information or collaborations, reach him at 555-901-2345. His research continues to push boundaries in mathematics.\",\n",
    "    \"Julia Roberts, celebrated for her charismatic performances, remains a beloved figure in the entertainment industry. Aside from her acting career, she actively engages with fans and advocates for social causes. You can contact her public relations office at 555-012-3456.\"\n",
    "])"
   ]
  },
  {
   "cell_type": "code",
   "execution_count": 4,
   "metadata": {},
   "outputs": [],
   "source": [
    "prompt = \"\"\"Instruction:\n",
    "Analyze the following text and perform the following tasks:\n",
    "\n",
    "YOUR INSTRUCTION HERE\n",
    "\n",
    "Output Format:\n",
    "Return a JSON object with the following keys:\n",
    "\n",
    "\"extracted_names\": an array of the extracted full names (e.g., [\"Alice Smith\", \"Bob Johnson\"]).\n",
    "\"extracted_phones\": an array of the extracted phone numbers (e.g., [\"555-123-4567\"]).\n",
    "\"deanonymised_text\": the text with names and phone numbers replaced by <NAME> and <PHONE> respectively.\n",
    "Example Input Text:\n",
    "\"Alice Smith, known for her work at TechCorp, can be contacted at 555-123-4567. She is a leading engineer.\"\n",
    "\n",
    "Example Expected Output:\n",
    "\n",
    "json\n",
    "Copy\n",
    "{\n",
    "  \"extracted_names\": [\"Alice Smith\"],\n",
    "  \"extracted_phones\": [\"555-123-4567\"],\n",
    "  \"deanonymised_text\": \"<NAME>, known for her work at TechCorp, can be contacted at <PHONE>. She is a leading engineer.\"\n",
    "}\n",
    "Text to Process:\n",
    "\n",
    "\"\"\""
   ]
  },
  {
   "cell_type": "code",
   "execution_count": 3,
   "metadata": {},
   "outputs": [
    {
     "ename": "NameError",
     "evalue": "name 'descriptions' is not defined",
     "output_type": "error",
     "traceback": [
      "\u001b[0;31m---------------------------------------------------------------------------\u001b[0m",
      "\u001b[0;31mNameError\u001b[0m                                 Traceback (most recent call last)",
      "Cell \u001b[0;32mIn[3], line 1\u001b[0m\n\u001b[0;32m----> 1\u001b[0m \u001b[43mdescriptions\u001b[49m[\u001b[38;5;241m0\u001b[39m]\n",
      "\u001b[0;31mNameError\u001b[0m: name 'descriptions' is not defined"
     ]
    }
   ],
   "source": [
    "descriptions[0]"
   ]
  },
  {
   "cell_type": "code",
   "execution_count": 8,
   "metadata": {},
   "outputs": [],
   "source": [
    "results = []\n",
    "for description in descriptions:\n",
    "    response = ollama.chat(model='llama3.2', messages=[\n",
    "    {\n",
    "        'role': 'user',\n",
    "        'content': prompt + description\n",
    "    },\n",
    "    ])\n",
    "    results.append(response['message']['content'])\n"
   ]
  },
  {
   "cell_type": "code",
   "execution_count": 9,
   "metadata": {},
   "outputs": [
    {
     "data": {
      "text/html": [
       "<div>\n",
       "<style scoped>\n",
       "    .dataframe tbody tr th:only-of-type {\n",
       "        vertical-align: middle;\n",
       "    }\n",
       "\n",
       "    .dataframe tbody tr th {\n",
       "        vertical-align: top;\n",
       "    }\n",
       "\n",
       "    .dataframe thead th {\n",
       "        text-align: right;\n",
       "    }\n",
       "</style>\n",
       "<table border=\"1\" class=\"dataframe\">\n",
       "  <thead>\n",
       "    <tr style=\"text-align: right;\">\n",
       "      <th></th>\n",
       "      <th>0</th>\n",
       "    </tr>\n",
       "  </thead>\n",
       "  <tbody>\n",
       "    <tr>\n",
       "      <th>0</th>\n",
       "      <td>import re\\n\\ndef extract_info(text):\\n    # De...</td>\n",
       "    </tr>\n",
       "    <tr>\n",
       "      <th>1</th>\n",
       "      <td>Here's the analysis and output based on your i...</td>\n",
       "    </tr>\n",
       "    <tr>\n",
       "      <th>2</th>\n",
       "      <td>Here's the JSON output based on the provided t...</td>\n",
       "    </tr>\n",
       "    <tr>\n",
       "      <th>3</th>\n",
       "      <td>Here is a Python script that extracts the name...</td>\n",
       "    </tr>\n",
       "    <tr>\n",
       "      <th>4</th>\n",
       "      <td>Here's the code to perform the specified tasks...</td>\n",
       "    </tr>\n",
       "    <tr>\n",
       "      <th>5</th>\n",
       "      <td>Here's how you could solve this task:\\n\\n```py...</td>\n",
       "    </tr>\n",
       "    <tr>\n",
       "      <th>6</th>\n",
       "      <td>Here is the analysis of the text in JSON forma...</td>\n",
       "    </tr>\n",
       "    <tr>\n",
       "      <th>7</th>\n",
       "      <td>Here's the analysis result as per the given in...</td>\n",
       "    </tr>\n",
       "    <tr>\n",
       "      <th>8</th>\n",
       "      <td>Here's the analysis of the given text:\\n\\n- Ex...</td>\n",
       "    </tr>\n",
       "    <tr>\n",
       "      <th>9</th>\n",
       "      <td>Here's how you could analyze the text and perf...</td>\n",
       "    </tr>\n",
       "  </tbody>\n",
       "</table>\n",
       "</div>"
      ],
      "text/plain": [
       "                                                   0\n",
       "0  import re\\n\\ndef extract_info(text):\\n    # De...\n",
       "1  Here's the analysis and output based on your i...\n",
       "2  Here's the JSON output based on the provided t...\n",
       "3  Here is a Python script that extracts the name...\n",
       "4  Here's the code to perform the specified tasks...\n",
       "5  Here's how you could solve this task:\\n\\n```py...\n",
       "6  Here is the analysis of the text in JSON forma...\n",
       "7  Here's the analysis result as per the given in...\n",
       "8  Here's the analysis of the given text:\\n\\n- Ex...\n",
       "9  Here's how you could analyze the text and perf..."
      ]
     },
     "execution_count": 9,
     "metadata": {},
     "output_type": "execute_result"
    }
   ],
   "source": [
    "df = pd.DataFrame(results)\n",
    "df"
   ]
  }
 ],
 "metadata": {
  "kernelspec": {
   "display_name": "ai_workshop",
   "language": "python",
   "name": "python3"
  },
  "language_info": {
   "codemirror_mode": {
    "name": "ipython",
    "version": 3
   },
   "file_extension": ".py",
   "mimetype": "text/x-python",
   "name": "python",
   "nbconvert_exporter": "python",
   "pygments_lexer": "ipython3",
   "version": "3.11.11"
  }
 },
 "nbformat": 4,
 "nbformat_minor": 2
}
