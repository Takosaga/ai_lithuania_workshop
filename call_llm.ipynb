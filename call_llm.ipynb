{
 "cells": [
  {
   "cell_type": "code",
   "execution_count": 1,
   "metadata": {},
   "outputs": [
    {
     "name": "stdout",
     "output_type": "stream",
     "text": [
      "The capital of Lithuania is Vilnius.\n"
     ]
    }
   ],
   "source": [
    "import ollama\n",
    "\n",
    "response = ollama.chat(model='llama3.2', messages=[\n",
    "    {\n",
    "        'role': 'user',\n",
    "        'content': 'What is the capital of Lithuania?'\n",
    "    },\n",
    "])\n",
    "\n",
    "print(response['message']['content'])"
   ]
  },
  {
   "cell_type": "code",
   "execution_count": 3,
   "metadata": {},
   "outputs": [],
   "source": [
    "import numpy as np \n",
    "\n",
    "\n",
    "descriptions = np.array([\n",
    "    \"Alice Smith, known for her innovative approach at TechCorp, has been making waves in the engineering field. With a passion for problem solving, she often collaborates with industry leaders. You can contact her at 555-123-4567, and she also mentors aspiring engineers.\",\n",
    "    \"Bob Johnson is an accomplished artist whose creative exhibitions in New York have drawn widespread acclaim. He is not only celebrated for his art but also for his contributions to community art programs. For bookings or collaborations, dial 555-234-5678.\",\n",
    "    \"Charlie Brown, a famous musician, has a knack for blending classical and modern sounds. His career spans several decades, during which his phone number 555-345-6789 has become a key contact for event organizers. His music continues to inspire many.\",\n",
    "    \"In the bustling city of Gotham, Detective Diana Prince stands out for her unmatched investigative skills. Her commitment to justice is evident in every case she handles, and she is available for consultation at 555-456-7890. Her strategic insights have solved numerous high-profile cases.\",\n",
    "    \"Agent Ethan Hunt is known for his daring missions and exceptional problem-solving abilities. His covert operations often involve sensitive communications, and his contact number, 555-567-8901, is kept secure among trusted circles. Beyond his secretive work, he is a master strategist.\",\n",
    "    \"Fiona Gallagher is an innovative entrepreneur whose startup has revolutionized the tech industry. With a forward-thinking mindset, she continuously drives innovation, and her office can be reached at 555-678-9012 for business inquiries. Her leadership inspires many young professionals.\",\n",
    "    \"George Martin, a novelist with a flair for storytelling, has captivated audiences worldwide with his compelling narratives. He occasionally shares insights on literature and culture, and can be contacted at 555-789-0123 for interviews or speaking engagements.\",\n",
    "    \"At City High, teacher Hannah Baker has earned a reputation for dedication and excellence in education. Her innovative teaching methods and approachable personality make her a favorite among students. For school-related inquiries, her contact is 555-890-1234.\",\n",
    "    \"Mathematician Ian Malcolm, revered for his groundbreaking theories, is a sought-after speaker at academic conferences. His expertise is widely recognized, and for further information or collaborations, reach him at 555-901-2345. His research continues to push boundaries in mathematics.\",\n",
    "    \"Julia Roberts, celebrated for her charismatic performances, remains a beloved figure in the entertainment industry. Aside from her acting career, she actively engages with fans and advocates for social causes. You can contact her public relations office at 555-012-3456.\"\n",
    "])"
   ]
  },
  {
   "cell_type": "code",
   "execution_count": 4,
   "metadata": {},
   "outputs": [],
   "source": [
    "prompt = \"\"\"Instruction:\n",
    "Analyze the following text and perform the following tasks:\n",
    "\n",
    "YOUR INSTRUCTION HERE\n",
    "\n",
    "Output Format:\n",
    "Return a JSON object with the following keys:\n",
    "\n",
    "\"extracted_names\": an array of the extracted full names (e.g., [\"Alice Smith\", \"Bob Johnson\"]).\n",
    "\"extracted_phones\": an array of the extracted phone numbers (e.g., [\"555-123-4567\"]).\n",
    "\"deanonymised_text\": the text with names and phone numbers replaced by <NAME> and <PHONE> respectively.\n",
    "Example Input Text:\n",
    "\"Alice Smith, known for her work at TechCorp, can be contacted at 555-123-4567. She is a leading engineer.\"\n",
    "\n",
    "Example Expected Output:\n",
    "\n",
    "json\n",
    "Copy\n",
    "{\n",
    "  \"extracted_names\": [\"Alice Smith\"],\n",
    "  \"extracted_phones\": [\"555-123-4567\"],\n",
    "  \"deanonymised_text\": \"<NAME>, known for her work at TechCorp, can be contacted at <PHONE>. She is a leading engineer.\"\n",
    "}\n",
    "Text to Process:\n",
    "\n",
    "\"\"\""
   ]
  },
  {
   "cell_type": "code",
   "execution_count": 5,
   "metadata": {},
   "outputs": [
    {
     "data": {
      "text/plain": [
       "np.str_('Alice Smith, known for her innovative approach at TechCorp, has been making waves in the engineering field. With a passion for problem solving, she often collaborates with industry leaders. You can contact her at 555-123-4567, and she also mentors aspiring engineers.')"
      ]
     },
     "execution_count": 5,
     "metadata": {},
     "output_type": "execute_result"
    }
   ],
   "source": [
    "descriptions[0]"
   ]
  },
  {
   "cell_type": "code",
   "execution_count": 6,
   "metadata": {},
   "outputs": [
    {
     "name": "stdout",
     "output_type": "stream",
     "text": [
      "import re\n",
      "import json\n",
      "\n",
      "def extract_info(text):\n",
      "    # Use regular expression to find names (whole words only) in the text\n",
      "    extracted_names = [match for match in re.findall(r'\\b\\w+\\s\\w+\\b', text) if not any(match.lower() in name.lower() for name in extracted_names)]\n",
      "    \n",
      "    # Extract phone numbers from the text\n",
      "    extracted_phones = re.findall(r'\\d{3}-\\d{3}-\\d{4}', text)\n",
      "    \n",
      "    # Replace names and phone numbers with <NAME> and <PHONE>\n",
      "    deanonymised_text = re.sub(r'\\b\\w+\\s\\w+\\b', '<NAME>', text)\n",
      "    deanonymised_text = re.sub(r'\\d{3}-\\d{3}-\\d{4}', '<PHONE>', deanonymised_text)\n",
      "\n",
      "    return {\n",
      "        \"extracted_names\": extracted_names,\n",
      "        \"extracted_phones\": extracted_phones,\n",
      "        \"deanonymised_text\": deanonymised_text\n",
      "    }\n",
      "\n",
      "text = \"\"\"Alice Smith, known for her innovative approach at TechCorp, has been making waves in the engineering field. With a passion for problem solving, she often collaborates with industry leaders. You can contact her at 555-123-4567, and she also mentors aspiring engineers.\"\"\"\n",
      "\n",
      "result = extract_info(text)\n",
      "\n",
      "print(json.dumps(result, indent=4))\n"
     ]
    }
   ],
   "source": [
    "response = ollama.chat(model='llama3.2', messages=[\n",
    "    {\n",
    "        \"role\": \"user\",\n",
    "        \"content\": prompt + descriptions[0]\n",
    "    },\n",
    "])\n",
    "\n",
    "print(response['message']['content'])"
   ]
  }
 ],
 "metadata": {
  "kernelspec": {
   "display_name": "ai_workshop",
   "language": "python",
   "name": "python3"
  },
  "language_info": {
   "codemirror_mode": {
    "name": "ipython",
    "version": 3
   },
   "file_extension": ".py",
   "mimetype": "text/x-python",
   "name": "python",
   "nbconvert_exporter": "python",
   "pygments_lexer": "ipython3",
   "version": "3.10.16"
  }
 },
 "nbformat": 4,
 "nbformat_minor": 2
}
